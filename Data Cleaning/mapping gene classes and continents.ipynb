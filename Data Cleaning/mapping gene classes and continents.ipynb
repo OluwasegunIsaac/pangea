{
 "cells": [
  {
   "cell_type": "code",
   "execution_count": null,
   "id": "b8aed4ee-376b-4d18-8bda-ff9da9854600",
   "metadata": {},
   "outputs": [],
   "source": [
    "#IMPORTING LIBRARIES AND DATASETS\n",
    "\n",
    "import pandas as pd\n",
    "\n",
    "\n",
    "# IMPORTING THE FILTERED GENOTYPIC DATA\n",
    "ATLAS_Dataset = pd.read_csv('atlas_2024_genes.csv')\n",
    "\n",
    "# DICTIONARY TO MAP THE GENOTYPES TO THEIR BECTA-LACTAMASE GENOTYPE SUB-CLASSES\n",
    "gene_classes = {'CTXM9': 'ESBL','SHV': 'Beta-lactamase','CTXM1': 'ESBL', 'TEM': 'Beta-lactamase','KPC': 'Carbapenemase',\n",
    "                'AMPC': 'AmpC beta-lactamase','ACTMIR': 'AmpC beta-lactamase', 'VIM': 'Carbapenemase','OXA': 'Carbapenemase',\n",
    "                'CTXM2': 'ESBL','VEB': 'ESBL','CMY11': 'AmpC beta-lactamase','DHA': 'AmpC beta-lactamase','GES': 'Carbapenemase',\n",
    "                'ACC': 'AmpC beta-lactamase', 'CTXM825': 'ESBL', 'NDM': 'Carbapenemase','IMP': 'Carbapenemase','FOX': 'AmpC beta-lactamase',\n",
    "                'SPM': 'Carbapenemase','CMY1MOX': 'AmpC beta-lactamase','PER':'ESBL'}\n",
    "\n",
    "# MAP THE GENOTYPES TO THEIR RESPECTIVE BECTA-LACTAMASE GENOTYPE SUB-CLASS\n",
    "ATLAS_Dataset['Gene Class'] = ATLAS_Dataset['Gene'].map(gene_classes)\n",
    "\n",
    "# DICTIONARY TO MAP THE COUNTRIES TO THEIR CONTINENTS\n",
    "countries_by_continent = {'France': 'Europe','Spain': 'Europe', 'Belgium': 'Europe', 'Italy': 'Europe','Germany': 'Europe',\n",
    "                          'United States': 'North America','Ireland': 'Europe','Portugal': 'Europe', 'Israel': 'Asia','Greece': 'Europe',\n",
    "                          'China': 'Asia', 'United Kingdom': 'Europe', 'Kuwait': 'Asia', 'Poland': 'Europe','Switzerland': 'Europe',\n",
    "                          'Canada': 'North America','Hungary': 'Europe', 'Austria': 'Europe','Colombia': 'South America','Chile': 'South America',\n",
    "                          'Finland': 'Europe','Australia': 'Oceania','Mexico': 'North America', 'Denmark': 'Europe', 'Sweden': 'Europe',\n",
    "                          'Hong Kong': 'Asia', 'Japan': 'Asia','Croatia': 'Europe','Malaysia': 'Asia','Nigeria': 'Africa', 'Kenya': 'Africa',\n",
    "                          'Russia': 'Europe', 'Romania': 'Europe','Netherlands': 'Europe','Venezuela': 'South America','Thailand': 'Asia',\n",
    "                          'Philippines': 'Asia','Turkey': 'Asia','Korea, South': 'Asia', 'South Africa': 'Africa','Argentina': 'South America',\n",
    "                          'Czech Republic': 'Europe','Taiwan': 'Asia','Brazil': 'South America','Panama': 'North America','Jordan': 'Asia',\n",
    "                          'Saudi Arabia': 'Asia','Pakistan': 'Asia','Guatemala': 'North America','Singapore': 'Asia','India': 'Asia',\n",
    "                          'Lithuania': 'Europe', 'Latvia': 'Europe','Dominican Republic': 'North America','Costa Rica': 'North America',\n",
    "                          'Ukraine': 'Europe','Morocco': 'Africa','New Zealand': 'Oceania','Qatar': 'Asia','Ivory Coast': 'Africa',\n",
    "                          'Cameroon': 'Africa', 'Slovenia': 'Europe','Honduras': 'North America','Puerto Rico': 'North America',\n",
    "                          'Slovak Republic': 'Europe','Bulgaria': 'Europe','Mauritius': 'Africa','El Salvador': 'North America',\n",
    "                          'Tunisia': 'Africa','Egypt': 'Africa'}\n",
    "\n",
    "\n",
    "#MAP COUNTRIES TO THEIR RESPECTIVE CONTINENTS\n",
    "ATLAS_Dataset['Continents'] = ATLAS_Dataset['Country'].map(countries_by_continent)\n",
    "\n",
    "# REPLACING THE PRESENCE OF AMPC GENOTYPE ORIGINALLY RECORDED AS POS WITH AMPC\n",
    "ATLAS_Dataset['Strain'] = ATLAS_Dataset['Strain'].replace('POS','AMPC')"
   ]
  },
  {
   "cell_type": "code",
   "execution_count": 1,
   "id": "3184a432-478e-48cf-b610-451aff9a97d7",
   "metadata": {},
   "outputs": [
    {
     "data": {
      "text/plain": [
       "'/Users/mac/Vivli/Visualizations'"
      ]
     },
     "execution_count": 1,
     "metadata": {},
     "output_type": "execute_result"
    }
   ],
   "source": [
    "pwd"
   ]
  },
  {
   "cell_type": "code",
   "execution_count": null,
   "id": "2f2a00a0-1a69-4274-9b2f-1d4ab6a65d8e",
   "metadata": {},
   "outputs": [],
   "source": []
  }
 ],
 "metadata": {
  "kernelspec": {
   "display_name": "Python 3 (ipykernel)",
   "language": "python",
   "name": "python3"
  },
  "language_info": {
   "codemirror_mode": {
    "name": "ipython",
    "version": 3
   },
   "file_extension": ".py",
   "mimetype": "text/x-python",
   "name": "python",
   "nbconvert_exporter": "python",
   "pygments_lexer": "ipython3",
   "version": "3.12.4"
  }
 },
 "nbformat": 4,
 "nbformat_minor": 5
}
