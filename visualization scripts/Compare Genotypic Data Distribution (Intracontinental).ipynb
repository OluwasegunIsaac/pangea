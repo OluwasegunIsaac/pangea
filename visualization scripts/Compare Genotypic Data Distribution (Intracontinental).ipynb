{
 "cells": [
  {
   "cell_type": "code",
   "execution_count": 1,
   "id": "b9f2a2bb-5d4a-40a3-ac2b-6fc220bb42d9",
   "metadata": {},
   "outputs": [],
   "source": [
    "#IMPORTING LIBRARIES AND DATASETS\n",
    "\n",
    "import pandas as pd\n",
    "import seaborn as sns\n",
    "import matplotlib.pyplot as plt\n",
    "\n",
    "\n",
    "\n",
    "# IMPORTING THE FILTERED GENOTYPIC DATA\n",
    "ATLAS_Dataset = pd.read_csv('atlas_2024_genes.csv')\n",
    "\n",
    "# FILTER OUT THE DATA OF EACH CONTINENT FOR CONTINENT-BASED ANALYSES\n",
    "Africa = ATLAS_Dataset[ATLAS_Dataset['Continents'] == 'Africa']\n",
    "Europe = ATLAS_Dataset[ATLAS_Dataset['Continents'] == 'Europe']\n",
    "North_America = ATLAS_Dataset[ATLAS_Dataset['Continents'] == 'North America']\n",
    "South_America = ATLAS_Dataset[ATLAS_Dataset['Continents'] == 'South America']\n",
    "Asia = ATLAS_Dataset[ATLAS_Dataset['Continents'] == 'Asia']\n",
    "Oceania = ATLAS_Dataset[ATLAS_Dataset['Continents'] == 'Oceania']"
   ]
  },
  {
   "cell_type": "code",
   "execution_count": 3,
   "id": "6f905fbc-37fd-4ae9-91ea-540ada4b6b66",
   "metadata": {},
   "outputs": [],
   "source": [
    "#VISUALIZING THE DISTRIBUTION OF OVERALL GENOTYPIC DATA RECORD FOR SELECTED CONTINENT\n",
    "\n",
    "# Function to visualize the distribution of genotypic data records for a selected continent\n",
    "def visualize_continent_distribution(df, continent):\n",
    "\n",
    "        # Filter the DataFrame to include only records for the specified continent\n",
    "    df_filtered = df[df['Continents'] == continent]\n",
    "\n",
    "    # Count the number of records for each country within the continent\n",
    "    df_continent_distribution = df_filtered['Country'].value_counts().reset_index()\n",
    "    df_continent_distribution.columns = ['Country', 'Count']\n",
    "\n",
    "    # Create a bar plot to show the distribution of genotypic data records across countries in the continent\n",
    "    plt.figure(figsize=(14, 8))\n",
    "    sns.barplot(data=df_continent_distribution, x='Country', y='Count', color='Skyblue')\n",
    "\n",
    "    # Add titles and labels\n",
    "    plt.title(f'Distribution of Genome Surveillance Data Among Countries in {continent}')\n",
    "    plt.xlabel('Country')\n",
    "    plt.ylabel('Number of Records')\n",
    "\n",
    "    # Rotate x-axis labels for better readability\n",
    "    plt.xticks(rotation=60)\n",
    "\n",
    "    # Add grid lines\n",
    "    plt.grid(axis='y')\n",
    "\n",
    "    # Adjust the layout\n",
    "    plt.tight_layout()\n",
    "    \n",
    "    # Display the plot\n",
    "    plt.show()"
   ]
  },
  {
   "cell_type": "raw",
   "id": "280df099-34b8-4866-8edd-eb8bf0fc7294",
   "metadata": {},
   "source": [
    "Test run:\n",
    "visualize_continent_distribution(ATLAS_Dataset,'Africa')\n",
    "visualize_continent_distribution(ATLAS_Dataset,'Europe')\n",
    "visualize_continent_distribution(ATLAS_Dataset,'Asia')"
   ]
  }
 ],
 "metadata": {
  "kernelspec": {
   "display_name": "Python 3 (ipykernel)",
   "language": "python",
   "name": "python3"
  },
  "language_info": {
   "codemirror_mode": {
    "name": "ipython",
    "version": 3
   },
   "file_extension": ".py",
   "mimetype": "text/x-python",
   "name": "python",
   "nbconvert_exporter": "python",
   "pygments_lexer": "ipython3",
   "version": "3.12.4"
  }
 },
 "nbformat": 4,
 "nbformat_minor": 5
}
