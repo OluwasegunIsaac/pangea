{
 "cells": [
  {
   "cell_type": "code",
   "execution_count": 1,
   "id": "334f0982-58f5-4a66-9a78-1563099abf74",
   "metadata": {},
   "outputs": [],
   "source": [
    "#IMPORTING LIBRARIES AND DATASETS\n",
    "\n",
    "import pandas as pd\n",
    "import plotly.graph_objects as go\n",
    "\n",
    "\n",
    "# IMPORTING THE FILTERED GENOTYPIC DATA\n",
    "ATLAS_Dataset = pd.read_csv('atlas_2024_genes.csv')\n",
    "\n",
    "# FILTER OUT THE DATA OF EACH CONTINENT FOR CONTINENT-BASED ANALYSES\n",
    "Africa = ATLAS_Dataset[ATLAS_Dataset['Continents'] == 'Africa']\n",
    "Europe = ATLAS_Dataset[ATLAS_Dataset['Continents'] == 'Europe']\n",
    "North_America = ATLAS_Dataset[ATLAS_Dataset['Continents'] == 'North America']\n",
    "South_America = ATLAS_Dataset[ATLAS_Dataset['Continents'] == 'South America']\n",
    "Asia = ATLAS_Dataset[ATLAS_Dataset['Continents'] == 'Asia']\n",
    "Oceania = ATLAS_Dataset[ATLAS_Dataset['Continents'] == 'Oceania']"
   ]
  },
  {
   "cell_type": "code",
   "execution_count": 8,
   "id": "219f6e52-0411-49ae-8b8c-5f2fa95e185e",
   "metadata": {},
   "outputs": [],
   "source": [
    "# WORLD MAPS DISPLAYING THE TOP MOST PREVALENT GENOTYPE(S) FOR SELECTED SPECIES.\n",
    "\n",
    "# Function to create a world map showing the top most prevalent genotypes for a selected species\n",
    "# The 'genotypes' argument specifies the number of top genotypes to be visualized (1, 2, 3, etc.)\n",
    "def genotypes_prevalence_map(df, species, genotypes):\n",
    "\n",
    "    # Filter the DataFrame for the specified species\n",
    "    df_filtered = df[df['Species'] == species]\n",
    "\n",
    "    # Calculate the total number of isolates per country\n",
    "    total_isolates_per_country = df_filtered.groupby('Country').size().reset_index(name='Total_Isolates')\n",
    "\n",
    "    # Group data by country and gene, and count occurrences\n",
    "    df_grouped = df_filtered.groupby(['Country', 'Gene']).size().reset_index(name='Count')\n",
    "\n",
    "    # Merge the total isolates data with the grouped data to get total isolates per country\n",
    "    df_grouped = df_grouped.merge(total_isolates_per_country, on='Country')\n",
    "\n",
    "    # Calculate the percentage of each gene's occurrence relative to the total isolates for each country\n",
    "    df_grouped['Percentage'] = (df_grouped['Count'] / df_grouped['Total_Isolates']) * 100\n",
    "\n",
    "    # Function to get the top 'n'(1,2,3 etc.) genotypes based on the count for each country\n",
    "    def get_top_genotypes(df):\n",
    "        return df.nlargest(genotypes, 'Count')\n",
    "\n",
    "    # Apply the function to get the top genotypes for each country\n",
    "    df_predominant = df_grouped.groupby('Country', group_keys=False).apply(get_top_genotypes).reset_index(drop=True)\n",
    "    \n",
    "    # Initialize a Plotly figure\n",
    "    fig = go.Figure()\n",
    "\n",
    "    # Add a Scattergeo trace for each row in the predominant DataFrame\n",
    "    for i, row in df_predominant.iterrows():\n",
    "        fig.add_trace(go.Scattergeo(locationmode='country names',locations=[row['Country']],\n",
    "            text=f\"{row['Gene']}: {row['Count']}<br>Percentage: {row['Percentage']:.1f}%<br>Total Isolates Recorded: {row['Total_Isolates']}\",\n",
    "            marker=dict(size=row['Count'] * 0.1, line=dict(width=0.5, color='darkgray')),showlegend=False ))\n",
    "\n",
    "    # Update the layout of the figure\n",
    "    fig.update_layout(title=f'Most Prevalent Genotypes in Each Country for {species}',\n",
    "        geo=dict(showframe=False,showcoastlines=True,projection_type='orthographic',landcolor='darkgreen',oceancolor='lightseagreen',\n",
    "                 lakecolor='rgb(0, 116, 189)',showocean=True,coastlinecolor='orange',countrycolor='darkgrey',showland=True,showcountries=True),\n",
    "        height=800,width=1000,margin=dict(l=0, r=0, t=40, b=40))\n",
    "\n",
    "    # Update geos to adjust map projection rotation\n",
    "    fig.update_geos(projection_rotation=dict(lon=0, lat=0, roll=0))\n",
    "\n",
    "    # Create frames for animation to rotate the globe\n",
    "    frames = [go.Frame(layout=dict(geo=dict(projection_rotation=dict(lon=lon))), name=f\"frame{lon}\") for lon in range(0, 360, 10)]\n",
    "\n",
    "    # Assign frames to the figure\n",
    "    fig.frames = frames\n",
    "\n",
    "    # Display the figure\n",
    "    fig.show()\n"
   ]
  },
  {
   "cell_type": "code",
   "execution_count": null,
   "id": "1ea00c50-6dc8-4e48-9ed0-bc49661e4a02",
   "metadata": {},
   "outputs": [],
   "source": []
  },
  {
   "cell_type": "code",
   "execution_count": null,
   "id": "15022cca-8be1-4523-ad4c-72dceb8b5641",
   "metadata": {},
   "outputs": [],
   "source": []
  }
 ],
 "metadata": {
  "kernelspec": {
   "display_name": "Python 3 (ipykernel)",
   "language": "python",
   "name": "python3"
  },
  "language_info": {
   "codemirror_mode": {
    "name": "ipython",
    "version": 3
   },
   "file_extension": ".py",
   "mimetype": "text/x-python",
   "name": "python",
   "nbconvert_exporter": "python",
   "pygments_lexer": "ipython3",
   "version": "3.12.4"
  }
 },
 "nbformat": 4,
 "nbformat_minor": 5
}
