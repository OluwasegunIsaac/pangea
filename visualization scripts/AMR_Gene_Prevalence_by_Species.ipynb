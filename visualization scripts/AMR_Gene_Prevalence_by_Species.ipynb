{
 "cells": [
  {
   "cell_type": "code",
   "execution_count": 13,
   "id": "df13110b-cf15-480e-a551-d3e277fd9b67",
   "metadata": {},
   "outputs": [],
   "source": [
    "#IMPORTING LIBRARIES AND DATASETS\n",
    "\n",
    "import pandas as pd\n",
    "import seaborn as sns\n",
    "import matplotlib.pyplot as plt\n",
    "\n",
    "\n",
    "\n",
    "# IMPORTING THE FILTERED GENOTYPIC DATA\n",
    "ATLAS_Dataset = pd.read_csv('atlas_2024_genes.csv')\n",
    "\n",
    "# FILTER OUT THE DATA OF EACH CONTINENT FOR CONTINENT-BASED ANALYSES\n",
    "Africa = ATLAS_Dataset[ATLAS_Dataset['Continents'] == 'Africa']\n",
    "Europe = ATLAS_Dataset[ATLAS_Dataset['Continents'] == 'Europe']\n",
    "North_America = ATLAS_Dataset[ATLAS_Dataset['Continents'] == 'North America']\n",
    "South_America = ATLAS_Dataset[ATLAS_Dataset['Continents'] == 'South America']\n",
    "Asia = ATLAS_Dataset[ATLAS_Dataset['Continents'] == 'Asia']\n",
    "Oceania = ATLAS_Dataset[ATLAS_Dataset['Continents'] == 'Oceania']"
   ]
  },
  {
   "cell_type": "code",
   "execution_count": 23,
   "id": "a02cb653-3c11-41db-8846-350f0ccfff5f",
   "metadata": {},
   "outputs": [],
   "source": [
    "# VISUALIZING THE PREVALENCE OF DIFFERENT GENOTYPES IN ONE OR MORE SELECTED SPECIES\n",
    "\n",
    "# Function to visualize the prevalence of AMR genes in selected species\n",
    "def amr_gene_prevalence(df, species_list):\n",
    "\n",
    "\n",
    "    gene_class_mapping = {\n",
    "        'CTXM9': 'ESBL', 'SHV': 'Beta-lactamase', 'CTXM1': 'ESBL', 'TEM': 'Beta-lactamase', \n",
    "        'KPC': 'Carbapenemase', 'AMPC': 'AmpC beta-lactamase', 'ACTMIR': 'AmpC beta-lactamase', \n",
    "        'VIM': 'Carbapenemase', 'OXA': 'Carbapenemase', 'CTXM2': 'ESBL', 'VEB': 'ESBL', \n",
    "        'CMY11': 'AmpC beta-lactamase', 'DHA': 'AmpC beta-lactamase', 'GES': 'Carbapenemase', \n",
    "        'ACC': 'AmpC beta-lactamase', 'CTXM825': 'ESBL', 'NDM': 'Carbapenemase', 'IMP': 'Carbapenemase', \n",
    "        'FOX': 'AmpC beta-lactamase', 'SPM': 'Carbapenemase', 'CMY1MOX': 'AmpC beta-lactamase','PER':'ESBL'\n",
    "    }\n",
    "    # Filter the DataFrame to only include data for the selected species\n",
    "    df_filtered = df[df['Species'].isin(species_list)]\n",
    "\n",
    "    # Create a pivot table to count the occurrences of each gene within each species\n",
    "    pivot_table = df_filtered.pivot_table(index='Gene', columns='Species', aggfunc='size', fill_value=0)\n",
    "\n",
    "    # Add a column to the pivot table to map each gene to its class\n",
    "    pivot_table['Gene Class'] = pivot_table.index.map(gene_class_mapping).fillna('Unknown')\n",
    "\n",
    "    # Define colors for each gene class for visualization purposes\n",
    "    class_colors = {'ESBL': 'skyblue', 'Carbapenemase': 'lightgreen','AmpC beta-lactamase': 'lightcoral','Beta-lactamase': 'grey',}\n",
    "\n",
    "    # Map each gene to its corresponding color based on the class\n",
    "    gene_classes = pivot_table['Gene Class']\n",
    "    row_colors = gene_classes.map(class_colors)\n",
    "\n",
    "    # Remove the 'Gene Class' column from the pivot table to prepare for heatmap plotting\n",
    "    pivot_table = pivot_table.drop(columns=['Gene Class'])\n",
    "\n",
    "    # Plot the heatmap of gene prevalence\n",
    "    plt.figure(figsize=(11,8))\n",
    "    sns.heatmap(pivot_table, cmap=\"Blues\", annot=True, fmt=\"d\", cbar_kws={'label': 'Prevalence'})\n",
    "\n",
    "    # Get the current axis and apply the row colors to each gene label\n",
    "    ax = plt.gca()\n",
    "    for label, color in zip(ax.get_yticklabels(), row_colors):\n",
    "        label.set_color(color)\n",
    "\n",
    "    # Create a legend to display the color coding for gene classes\n",
    "    handles = [plt.Line2D([0], [0], color=color, lw=4) for color in class_colors.values()]\n",
    "    labels = class_colors.keys()\n",
    "    plt.legend(handles, labels, title='Genotype Subclasses', loc='upper right', bbox_to_anchor=(1.5, 1))\n",
    "\n",
    "    # Add titles and labels to the plot\n",
    "    plt.title(f'Prevalence of AMR Genes by Species in Africa')\n",
    "    plt.xlabel('Species')\n",
    "    plt.ylabel('Gene')\n",
    "    #plt.show()\n",
    "    plt.savefig('amr_gene_prevalence.png')"
   ]
  },
  {
   "cell_type": "markdown",
   "id": "c140dc7c-b821-4c11-8969-5f50baa639b1",
   "metadata": {},
   "source": [
    "Test run:\n",
    "\n",
    "amr_gene_prevalence(ATLAS_Dataset,['Escherichia coli', 'Klebsiella pneumoniae','Enterobacter cloacae','Pseudomonas aeruginosa'])"
   ]
  },
  {
   "cell_type": "code",
   "execution_count": null,
   "id": "5b13d0ef-d7a5-431e-9252-d7ccda1cf57b",
   "metadata": {},
   "outputs": [],
   "source": []
  }
 ],
 "metadata": {
  "kernelspec": {
   "display_name": "Python 3 (ipykernel)",
   "language": "python",
   "name": "python3"
  },
  "language_info": {
   "codemirror_mode": {
    "name": "ipython",
    "version": 3
   },
   "file_extension": ".py",
   "mimetype": "text/x-python",
   "name": "python",
   "nbconvert_exporter": "python",
   "pygments_lexer": "ipython3",
   "version": "3.12.4"
  }
 },
 "nbformat": 4,
 "nbformat_minor": 5
}
