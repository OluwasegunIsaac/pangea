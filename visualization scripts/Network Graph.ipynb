{
 "cells": [
  {
   "cell_type": "code",
   "execution_count": 1,
   "id": "4e25cda9-3016-47d0-8a8b-53a247534b5c",
   "metadata": {
    "scrolled": true
   },
   "outputs": [],
   "source": [
    "import pandas as pd\n",
    "import networkx as nx\n",
    "import matplotlib.pyplot as plt\n",
    "\n",
    "# Load the dataset\n",
    "ATLAS_Dataset = pd.read_csv('atlas_2024_genes.csv')\n"
   ]
  },
  {
   "cell_type": "code",
   "execution_count": 23,
   "id": "03f921e4-e32f-4b62-bd3d-f712cb1a94e9",
   "metadata": {},
   "outputs": [],
   "source": [
    "# Function to create a network diagram for a specific species and continent\n",
    "def genotype_countries_network(df, species_name, continent_name, top_n_strains=10):\n",
    "    # Filter the dataset to include only the specified species and continent\n",
    "    df_filtered = df[(df['Species'] == species_name) & (df['Continents'] == continent_name)]\n",
    "\n",
    "    # Get the top N most common strains for this species and continent\n",
    "    top_strains = df_filtered['Strain'].value_counts().nlargest(top_n_strains).index\n",
    "\n",
    "    # Filter the dataframe to only include the top N strains\n",
    "    df_top_strains = df_filtered[df_filtered['Strain'].isin(top_strains)]\n",
    "\n",
    "    # Create a graph\n",
    "    G = nx.Graph()\n",
    "\n",
    "    # Add nodes and edges for genes, strains, and countries\n",
    "    for _, row in df_top_strains.iterrows():\n",
    "        Genotype = row['Gene']\n",
    "        Subgenotype = row['Strain']\n",
    "        Country = row['Country']\n",
    "        \n",
    "        # Add nodes for gene, strain, and country\n",
    "        G.add_node(Genotype, type='Genotype')\n",
    "        G.add_node(Subgenotype, type='Subgenotype')\n",
    "        G.add_node(Country, type='Country')\n",
    "        \n",
    "        # Add edges\n",
    "        G.add_edge(Genotype,Subgenotype)\n",
    "        G.add_edge(Subgenotype, Country)\n",
    "\n",
    "    # Define colors and sizes based on node type\n",
    "    node_color_map = {\n",
    "        'Genotype': 'lightblue',\n",
    "        'Subgenotype': 'lightgreen',\n",
    "        'Country': 'salmon'\n",
    "    }\n",
    "    \n",
    "    node_size_map = {\n",
    "        'Genotype': 800,\n",
    "        'Subgenotype': 1200,\n",
    "        'Country': 1400\n",
    "    }\n",
    "\n",
    "    # Extract node colors and sizes\n",
    "    node_colors = [node_color_map[G.nodes[node]['type']] for node in G.nodes]\n",
    "    node_sizes = [node_size_map[G.nodes[node]['type']] for node in G.nodes]\n",
    "\n",
    "    # Draw the network using a spring layout\n",
    "    plt.figure(figsize=(12, 10))\n",
    "    pos = nx.spring_layout(G, seed=42, k=0.6)  # Use k parameter to adjust spacing\n",
    "    nx.draw(G, pos, with_labels=True, node_size=node_sizes, node_color=node_colors, font_size=8, font_weight='bold', edge_color='gray')\n",
    "\n",
    "    # Create a legend for node types\n",
    "    legend_labels = [plt.Line2D([0], [0], marker='o', color='w', label=node_type, markersize=10, markerfacecolor=color) \n",
    "                     for node_type, color in node_color_map.items()]\n",
    "    plt.legend(handles=legend_labels, loc='upper left')\n",
    "\n",
    "    plt.title(f'Genotypes Network Diagram for {species_name} in {continent_name} (Top {top_n_strains} Sungenotypes)')\n",
    "    #plt.show()\n",
    "    plt.savefig('network.png')\n"
   ]
  },
  {
   "cell_type": "raw",
   "id": "d4169619-9690-4bca-afdc-737460757655",
   "metadata": {},
   "source": [
    "Test run:\n",
    "\n",
    "genotype_countries_network(ATLAS_Dataset, 'Klebsiella pneumoniae', 'Africa', 10)\n",
    "genotype_countries_network(ATLAS_Dataset, 'Klebsiella pneumoniae', 'Europe', 5)\n",
    "genotype_countries_network(ATLAS_Dataset, 'Klebsiella pneumoniae', 'North America', 8)\n",
    "genotype_countries_network(ATLAS_Dataset, 'Klebsiella pneumoniae', 'South America', 6)"
   ]
  },
  {
   "cell_type": "code",
   "execution_count": null,
   "id": "8ece0403-ea02-4424-a14b-4c436b013762",
   "metadata": {},
   "outputs": [],
   "source": []
  }
 ],
 "metadata": {
  "kernelspec": {
   "display_name": "Python 3 (ipykernel)",
   "language": "python",
   "name": "python3"
  },
  "language_info": {
   "codemirror_mode": {
    "name": "ipython",
    "version": 3
   },
   "file_extension": ".py",
   "mimetype": "text/x-python",
   "name": "python",
   "nbconvert_exporter": "python",
   "pygments_lexer": "ipython3",
   "version": "3.12.4"
  }
 },
 "nbformat": 4,
 "nbformat_minor": 5
}
