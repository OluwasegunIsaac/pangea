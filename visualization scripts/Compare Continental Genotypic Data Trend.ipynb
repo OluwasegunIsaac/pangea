{
 "cells": [
  {
   "cell_type": "code",
   "execution_count": 1,
   "id": "d8f4d57f-f1e6-4163-ad40-ce67a8400f7d",
   "metadata": {},
   "outputs": [],
   "source": [
    "#IMPORTING LIBRARIES AND DATASETS\n",
    "\n",
    "import pandas as pd\n",
    "import seaborn as sns\n",
    "import matplotlib.pyplot as plt\n",
    "\n",
    "\n",
    "\n",
    "# IMPORTING THE FILTERED GENOTYPIC DATA\n",
    "ATLAS_Dataset = pd.read_csv('atlas_2024_genes.csv')\n",
    "\n",
    "# FILTER OUT THE DATA OF EACH CONTINENT FOR CONTINENT-BASED ANALYSES\n",
    "Africa = ATLAS_Dataset[ATLAS_Dataset['Continents'] == 'Africa']\n",
    "Europe = ATLAS_Dataset[ATLAS_Dataset['Continents'] == 'Europe']\n",
    "North_America = ATLAS_Dataset[ATLAS_Dataset['Continents'] == 'North America']\n",
    "South_America = ATLAS_Dataset[ATLAS_Dataset['Continents'] == 'South America']\n",
    "Asia = ATLAS_Dataset[ATLAS_Dataset['Continents'] == 'Asia']\n",
    "Oceania = ATLAS_Dataset[ATLAS_Dataset['Continents'] == 'Oceania']"
   ]
  },
  {
   "cell_type": "code",
   "execution_count": 2,
   "id": "a90f901a-48f0-4407-b6bb-1f30891849c3",
   "metadata": {},
   "outputs": [],
   "source": [
    "#TIME SERIES VISUALIZATION OF GENOTYPIC DATA RECORDED FOR SELECTED CONTINENT(S)\n",
    "\n",
    "# Function to visualize and compare genotypic data trends across continents over time\n",
    "def compare_continent_trends(df):\n",
    "\n",
    "    # Aggregate the data by grouping by year and continent, counting the number of records for each group\n",
    "    df_aggregated = df.groupby(['Year', 'Continents']).size().reset_index(name='Gene')\n",
    "\n",
    "    # Create a line plot to show trends in genotypic data across different continents\n",
    "    plt.figure(figsize=(14, 8))\n",
    "    sns.lineplot(data=df_aggregated, x='Year', y='Gene', hue='Continents', markers=True, dashes=False)\n",
    "\n",
    "    # Add titles and labels\n",
    "    plt.title('Comparison of Genotypic Data Trends Across Continents Over the Years')\n",
    "    plt.xlabel('Year')\n",
    "    plt.ylabel('Number of Records')\n",
    "\n",
    "    # Display the legend\n",
    "    plt.legend(title='Continent', bbox_to_anchor=(1.05, 1), loc='upper left')\n",
    "\n",
    "    # Add grid lines\n",
    "    plt.grid(True)\n",
    "\n",
    "    # Adjust the layout\n",
    "    plt.tight_layout()\n",
    "\n",
    "    # Display the plot\n",
    "    plt.show()"
   ]
  },
  {
   "cell_type": "markdown",
   "id": "15d8f46d-88ac-4c32-8e83-18d2414a94e8",
   "metadata": {},
   "source": [
    "#Test run:\n",
    "compare_continent_trends(ATLAS_Dataset)\n",
    "compare_continent_trends(Africa)\n",
    "compare_continent_trends(Europe)\n",
    "compare_continent_trends(North_America)...etc\n",
    "\n"
   ]
  },
  {
   "cell_type": "code",
   "execution_count": null,
   "id": "8bb37a31-b938-482d-91b4-8b3303389373",
   "metadata": {},
   "outputs": [],
   "source": [
    "    "
   ]
  }
 ],
 "metadata": {
  "kernelspec": {
   "display_name": "Python 3 (ipykernel)",
   "language": "python",
   "name": "python3"
  },
  "language_info": {
   "codemirror_mode": {
    "name": "ipython",
    "version": 3
   },
   "file_extension": ".py",
   "mimetype": "text/x-python",
   "name": "python",
   "nbconvert_exporter": "python",
   "pygments_lexer": "ipython3",
   "version": "3.12.4"
  }
 },
 "nbformat": 4,
 "nbformat_minor": 5
}
