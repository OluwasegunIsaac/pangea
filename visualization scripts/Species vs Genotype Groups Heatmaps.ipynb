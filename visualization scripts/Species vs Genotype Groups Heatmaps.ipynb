{
 "cells": [
  {
   "cell_type": "code",
   "execution_count": 1,
   "id": "666239a7-a8b0-4f4a-92c1-b162593965d8",
   "metadata": {},
   "outputs": [],
   "source": [
    "import pandas as pd\n",
    "import seaborn as sns\n",
    "import matplotlib.pyplot as plt\n",
    "from scipy.cluster.hierarchy import linkage, dendrogram, leaves_list\n",
    "from scipy.spatial.distance import pdist, squareform\n",
    "\n",
    "# IMPORTING THE FILTERED GENOTYPIC DATA\n",
    "ATLAS_Dataset = pd.read_csv('atlas_2024_genes.csv')\n",
    "\n",
    "# FILTER OUT THE DATA OF EACH CONTINENT FOR CONTINENT-BASED ANALYSES\n",
    "Africa = ATLAS_Dataset[ATLAS_Dataset['Continents'] == 'Africa']\n",
    "Europe = ATLAS_Dataset[ATLAS_Dataset['Continents'] == 'Europe']\n",
    "North_America = ATLAS_Dataset[ATLAS_Dataset['Continents'] == 'North America']\n",
    "South_America = ATLAS_Dataset[ATLAS_Dataset['Continents'] == 'South America']\n",
    "Asia = ATLAS_Dataset[ATLAS_Dataset['Continents'] == 'Asia']\n",
    "Oceania = ATLAS_Dataset[ATLAS_Dataset['Continents'] == 'Oceania']\n"
   ]
  },
  {
   "cell_type": "code",
   "execution_count": 23,
   "id": "7665f2cb-f6ef-44e1-97ff-efa595342c5b",
   "metadata": {},
   "outputs": [],
   "source": [
    "# HEATMAP FOR SPECIES-SPECIFIC PREVALENCE OF GENOTYPES\n",
    "\n",
    "# Function to create a heatmap with for species-specific prevalence of genotypes\n",
    "def species_genotype_groups_heatmap(df, continent):\n",
    "\n",
    "    # Filter the DataFrame for the specified continent\n",
    "    df_filtered = df[df['Continents'] == continent]\n",
    "\n",
    "    # Create a pivot table with species as rows and genes as columns, counting occurrences\n",
    "    pivot_table = df_filtered.pivot_table(index='Species', columns='Gene', aggfunc='size', fill_value=0)\n",
    "\n",
    "    # Compute the linkage for rows (Species) using Euclidean distance and average linkage method\n",
    "    row_linkage = linkage(pdist(pivot_table, metric='euclidean'), method='average')\n",
    "\n",
    "    # Map genes to their classes and create a dictionary for color coding\n",
    "    gene_classes = df.set_index('Gene')['Gene Class'].to_dict()\n",
    "    unique_classes = df['Gene Class'].unique()\n",
    "    class_colors = dict(zip(unique_classes, sns.color_palette(n_colors=len(unique_classes))))\n",
    "\n",
    "    # Create a distance matrix for gene classes\n",
    "    gene_class_labels = pivot_table.columns.map(gene_classes)\n",
    "    gene_class_distance_matrix = pdist(gene_class_labels.values[:, None], metric=lambda u, v: 0 if u == v else 1)\n",
    "    gene_class_distance_matrix = squareform(gene_class_distance_matrix)\n",
    "\n",
    "    # Create a combined distance matrix for genes based on class and data\n",
    "    gene_distance_matrix = gene_class_distance_matrix + squareform(pdist(pivot_table.T, metric='euclidean'))\n",
    "\n",
    "    # Compute the linkage for columns (Genes) using the modified distance matrix\n",
    "    col_linkage = linkage(squareform(gene_distance_matrix), method='average')\n",
    "\n",
    "    # Map genes to their corresponding class colors for visualization\n",
    "    col_colors = pivot_table.columns.map(gene_classes).map(class_colors)\n",
    "\n",
    "     # Generate the heatmap with dendrograms\n",
    "    clustermap = sns.clustermap(pivot_table, row_linkage=row_linkage, col_linkage=col_linkage, cmap='Blues', figsize=(15, 10), col_colors=col_colors, linewidths=0.1, linecolor='lightgrey')\n",
    "\n",
    "     # Add a legend for genotype subclasses\n",
    "    for label in unique_classes:\n",
    "        clustermap.ax_col_dendrogram.bar(0, 0, color=class_colors[label], label=label, linewidth=0)\n",
    "    clustermap.ax_col_dendrogram.legend(loc='center', ncol=5, bbox_to_anchor=(0.5, 1.1), title='Genotype Subclasses')\n",
    "\n",
    "    # Add a title to the heatmap\n",
    "    plt.title(f'Species vs Genotype Heatmap {continent}')\n",
    "\n",
    "    #Display heatmap\n",
    "    plt.show()\n",
    "\n"
   ]
  },
  {
   "cell_type": "raw",
   "id": "38625c56-b625-4e2c-ab2c-d6a59479fc55",
   "metadata": {},
   "source": [
    "Test run\n",
    "species_genotype_groups_heatmap(ATLAS_Dataset,'Africa')"
   ]
  },
  {
   "cell_type": "code",
   "execution_count": null,
   "id": "f5d88553-e949-40b7-bde8-e3f9fa3b8071",
   "metadata": {},
   "outputs": [],
   "source": []
  }
 ],
 "metadata": {
  "kernelspec": {
   "display_name": "Python 3 (ipykernel)",
   "language": "python",
   "name": "python3"
  },
  "language_info": {
   "codemirror_mode": {
    "name": "ipython",
    "version": 3
   },
   "file_extension": ".py",
   "mimetype": "text/x-python",
   "name": "python",
   "nbconvert_exporter": "python",
   "pygments_lexer": "ipython3",
   "version": "3.12.4"
  }
 },
 "nbformat": 4,
 "nbformat_minor": 5
}
