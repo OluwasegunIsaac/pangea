{
 "cells": [
  {
   "cell_type": "code",
   "execution_count": 3,
   "id": "6c537ce2-375e-40dd-bd23-ce5185d3c213",
   "metadata": {},
   "outputs": [],
   "source": [
    "#IMPORTING LIBRARIES AND DATASETS\n",
    "\n",
    "import pandas as pd\n",
    "import seaborn as sns\n",
    "import matplotlib.pyplot as plt\n",
    "\n",
    "\n",
    "\n",
    "# IMPORTING THE FILTERED GENOTYPIC DATA\n",
    "ATLAS_Dataset = pd.read_csv('atlas_2024_genes.csv')\n",
    "\n",
    "# FILTER OUT THE DATA OF EACH CONTINENT FOR CONTINENT-BASED ANALYSES\n",
    "Africa = ATLAS_Dataset[ATLAS_Dataset['Continents'] == 'Africa']\n",
    "Europe = ATLAS_Dataset[ATLAS_Dataset['Continents'] == 'Europe']\n",
    "North_America = ATLAS_Dataset[ATLAS_Dataset['Continents'] == 'North America']\n",
    "South_America = ATLAS_Dataset[ATLAS_Dataset['Continents'] == 'South America']\n",
    "Asia = ATLAS_Dataset[ATLAS_Dataset['Continents'] == 'Asia']\n",
    "Oceania = ATLAS_Dataset[ATLAS_Dataset['Continents'] == 'Oceania']"
   ]
  },
  {
   "cell_type": "code",
   "execution_count": 18,
   "id": "1b7bb279-5d88-4c53-81db-22a656d837c4",
   "metadata": {},
   "outputs": [],
   "source": [
    "#TIME SERIES VISUALIZATION COMPARING THE TREND OF RECORDED GENOTYPIC DATA OF SELECTED CONTINENT(S) WITH THE GLOBAL AVERAGE\n",
    "\n",
    "def compare_with_global_average(df, selected_continents=None):\n",
    "\n",
    "    # Aggregate data by grouping by year and continent, counting the number of records for each group\n",
    "    df_aggregated = df.groupby(['Year', 'Continents']).size().reset_index(name='Count')\n",
    "\n",
    "    # Calculate the global average number of records per year\n",
    "    global_avg = df_aggregated.groupby('Year')['Count'].mean().reset_index(name='Global Average')\n",
    "\n",
    "    # Merge the global average data with the aggregated continent data\n",
    "    df_aggregated = df_aggregated.merge(global_avg, on='Year')\n",
    "\n",
    "    # Filter the data to include only selected continents and the global average, if specified\n",
    "    if selected_continents is not None:\n",
    "        df_aggregated = df_aggregated[df_aggregated['Continents'].isin(selected_continents) | (df_aggregated['Continents'] == 'Global Average')]\n",
    "\n",
    "    # Create a line plot to compare trends in genotypic data for selected continents and the global average\n",
    "    plt.figure(figsize=(14, 8))\n",
    "    sns.lineplot(data=df_aggregated, x='Year', y='Count', hue='Continents', style='Continents', markers=True, dashes=False)\n",
    "\n",
    "    # Add a separate line for the global average using a dashed line for distinction\n",
    "    sns.lineplot(data=df_aggregated, x='Year', y='Global Average', color='black', label='Global Average', linestyle='--')\n",
    "\n",
    "    # Add titles and labels\n",
    "    plt.title('Comparison of Genotypic Data Trends Across Continents with Global Average')\n",
    "    plt.xlabel('Year')\n",
    "    plt.ylabel('Number of Records')\n",
    "\n",
    "     # Display the legend\n",
    "    plt.legend(title='Continent', bbox_to_anchor=(1.05, 1), loc='upper left')\n",
    "    \n",
    "    # Add grid lines\n",
    "    plt.grid(True)\n",
    "    plt.xticks(ticks=df_aggregated['Year'].unique(), labels=df_aggregated['Year'].unique().astype(int))\n",
    "    plt.gca().spines['top'].set_visible(False)\n",
    "    plt.gca().spines['right'].set_visible(False)\n",
    "\n",
    "    # Adjust the layout\n",
    "    plt.tight_layout()\n",
    "\n",
    "    # Display the plot\n",
    "    #plt.show()\n",
    "    plt.savefig('compare global average.png')"
   ]
  },
  {
   "cell_type": "raw",
   "id": "0253cbef-cf57-4a02-aad8-5ef8693fd35d",
   "metadata": {},
   "source": [
    "Test run:\n",
    "compare_with_global_average(ATLAS_Dataset,['Africa','Asia','North America','South America'])\n",
    "compare_with_global_average(Africa,['Africa','Asia','North America','South America'])"
   ]
  },
  {
   "cell_type": "code",
   "execution_count": null,
   "id": "00b2253f-fe68-4975-a973-91b43c59f24f",
   "metadata": {},
   "outputs": [],
   "source": []
  }
 ],
 "metadata": {
  "kernelspec": {
   "display_name": "Python 3 (ipykernel)",
   "language": "python",
   "name": "python3"
  },
  "language_info": {
   "codemirror_mode": {
    "name": "ipython",
    "version": 3
   },
   "file_extension": ".py",
   "mimetype": "text/x-python",
   "name": "python",
   "nbconvert_exporter": "python",
   "pygments_lexer": "ipython3",
   "version": "3.12.4"
  }
 },
 "nbformat": 4,
 "nbformat_minor": 5
}
