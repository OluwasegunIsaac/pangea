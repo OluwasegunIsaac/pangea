{
 "cells": [
  {
   "cell_type": "code",
   "execution_count": 3,
   "id": "5511d54e-6db6-4d4d-913c-b32ea2ca0597",
   "metadata": {},
   "outputs": [],
   "source": [
    "#IMPORTING LIBRARIES AND DATASETS\n",
    "\n",
    "import pandas as pd\n",
    "import seaborn as sns\n",
    "import matplotlib.pyplot as plt\n",
    "\n",
    "\n",
    "\n",
    "# IMPORTING THE FILTERED GENOTYPIC DATA\n",
    "ATLAS_Dataset = pd.read_csv('atlas_2024_genes.csv')\n",
    "\n",
    "# FILTER OUT THE DATA OF EACH CONTINENT FOR CONTINENT-BASED ANALYSES\n",
    "Africa = ATLAS_Dataset[ATLAS_Dataset['Continents'] == 'Africa']\n",
    "Europe = ATLAS_Dataset[ATLAS_Dataset['Continents'] == 'Europe']\n",
    "North_America = ATLAS_Dataset[ATLAS_Dataset['Continents'] == 'North America']\n",
    "South_America = ATLAS_Dataset[ATLAS_Dataset['Continents'] == 'South America']\n",
    "Asia = ATLAS_Dataset[ATLAS_Dataset['Continents'] == 'Asia']\n",
    "Oceania = ATLAS_Dataset[ATLAS_Dataset['Continents'] == 'Oceania']\n"
   ]
  },
  {
   "cell_type": "code",
   "execution_count": 9,
   "id": "9691bc2d-bc82-4c1f-bb3b-786c0419b56e",
   "metadata": {},
   "outputs": [],
   "source": [
    "# HEATMAPS DEPICTING THE CO-OCCURENCE OF GENOTYPES FOR SELECTED ISOLATES (JACCARD SIMILARITY INDEX HEATMAP)\n",
    "\n",
    "\n",
    "def genotype_couccurence_heatmap(df, species):\n",
    "    # Filter the DataFrame for the selected species\n",
    "    filtered_df = df[df['Species'] == species]\n",
    "\n",
    "    # Extract relevant columns and drop duplicates and missing values\n",
    "    relevant_columns = ['Isolate Id', 'Gene']\n",
    "    data = filtered_df[relevant_columns].drop_duplicates().dropna(subset=['Gene'])\n",
    "\n",
    "    # Create a pivot table: rows are isolates, columns are genes, values are counts\n",
    "    species_pivot_table = pd.pivot_table(data, index='Isolate Id', columns='Gene', aggfunc=len, fill_value=0)\n",
    "\n",
    "    # Define a function to compute the Jaccard index\n",
    "    def jaccard_index(x, y):\n",
    "        intersection = (x & y).sum()\n",
    "        union = (x | y).sum()\n",
    "        return intersection / union if union != 0 else 0\n",
    "\n",
    "    # Initialize an empty DataFrame for the Jaccard matrix\n",
    "    jaccard_matrix = pd.DataFrame(index=species_pivot_table.columns, columns=species_pivot_table.columns)\n",
    "    \n",
    "    # Compute the Jaccard index for each pair of genes\n",
    "    for gene1 in species_pivot_table.columns:\n",
    "        for gene2 in species_pivot_table.columns:\n",
    "            jaccard_matrix.loc[gene1, gene2] = jaccard_index(species_pivot_table[gene1], species_pivot_table[gene2])\n",
    "\n",
    "    # Plot the Jaccard similarity index as a heatmap\n",
    "    plt.figure(figsize=(15, 10))\n",
    "    sns.heatmap(jaccard_matrix.astype(float), cmap='YlGnBu')\n",
    "    plt.title(f'Jaccard Similarity Index Heatmap for {species} in Africa')\n",
    "    plt.xlabel('Resistance Genes')\n",
    "    plt.ylabel('Resistance Genes')\n",
    "    #plt.show()\n",
    "    plt.savefig('Heatmap_Africa_e_coli.png')"
   ]
  },
  {
   "cell_type": "markdown",
   "id": "bc401e9c-0b71-4aa5-ac85-a5b0918f9e54",
   "metadata": {},
   "source": [
    "Test run:\n",
    "\n",
    "genotype_couccurence_heatmap(Africa,'Escherichia coli')"
   ]
  },
  {
   "cell_type": "code",
   "execution_count": null,
   "id": "16e0b726-8cf1-427f-ac89-8126eb9920cb",
   "metadata": {},
   "outputs": [],
   "source": []
  }
 ],
 "metadata": {
  "kernelspec": {
   "display_name": "Python 3 (ipykernel)",
   "language": "python",
   "name": "python3"
  },
  "language_info": {
   "codemirror_mode": {
    "name": "ipython",
    "version": 3
   },
   "file_extension": ".py",
   "mimetype": "text/x-python",
   "name": "python",
   "nbconvert_exporter": "python",
   "pygments_lexer": "ipython3",
   "version": "3.12.4"
  }
 },
 "nbformat": 4,
 "nbformat_minor": 5
}
